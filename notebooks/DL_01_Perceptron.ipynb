{
 "cells": [
  {
   "cell_type": "code",
   "execution_count": 31,
   "metadata": {
    "id": "Ao_ZQIg07tZX",
    "tags": []
   },
   "outputs": [],
   "source": [
    "# Imports\n",
    "import numpy as np\n",
    "import matplotlib.pyplot as plt\n",
    "from sklearn.datasets import load_iris\n",
    "from sklearn.model_selection import train_test_split\n",
    "from sklearn.metrics import accuracy_score\n",
    "\n",
    "import warnings\n",
    "import os\n",
    "import sys\n",
    "warnings.filterwarnings('ignore')\n",
    "\n",
    "current_dir = os.getcwd()\n",
    "parent_dir = os.path.dirname(current_dir)\n",
    "sys.path.insert(0, parent_dir)"
   ]
  },
  {
   "cell_type": "code",
   "execution_count": 32,
   "metadata": {
    "tags": []
   },
   "outputs": [],
   "source": [
    "import graph_properties"
   ]
  },
  {
   "cell_type": "markdown",
   "metadata": {
    "id": "jUoneR7a7tZO"
   },
   "source": [
    "# Part 1: Datos"
   ]
  },
  {
   "cell_type": "code",
   "execution_count": 57,
   "metadata": {
    "tags": []
   },
   "outputs": [
    {
     "data": {
      "text/plain": [
       "array([[5.1, 3.5],\n",
       "       [4.9, 3. ],\n",
       "       [4.7, 3.2],\n",
       "       [4.6, 3.1],\n",
       "       [5. , 3.6],\n",
       "       [5.4, 3.9],\n",
       "       [4.6, 3.4],\n",
       "       [5. , 3.4],\n",
       "       [4.4, 2.9],\n",
       "       [4.9, 3.1],\n",
       "       [5.4, 3.7],\n",
       "       [4.8, 3.4],\n",
       "       [4.8, 3. ],\n",
       "       [4.3, 3. ],\n",
       "       [5.8, 4. ],\n",
       "       [5.7, 4.4],\n",
       "       [5.4, 3.9],\n",
       "       [5.1, 3.5],\n",
       "       [5.7, 3.8],\n",
       "       [5.1, 3.8],\n",
       "       [5.4, 3.4],\n",
       "       [5.1, 3.7],\n",
       "       [4.6, 3.6],\n",
       "       [5.1, 3.3],\n",
       "       [4.8, 3.4],\n",
       "       [5. , 3. ],\n",
       "       [5. , 3.4],\n",
       "       [5.2, 3.5],\n",
       "       [5.2, 3.4],\n",
       "       [4.7, 3.2],\n",
       "       [4.8, 3.1],\n",
       "       [5.4, 3.4],\n",
       "       [5.2, 4.1],\n",
       "       [5.5, 4.2],\n",
       "       [4.9, 3.1],\n",
       "       [5. , 3.2],\n",
       "       [5.5, 3.5],\n",
       "       [4.9, 3.6],\n",
       "       [4.4, 3. ],\n",
       "       [5.1, 3.4],\n",
       "       [5. , 3.5],\n",
       "       [4.5, 2.3],\n",
       "       [4.4, 3.2],\n",
       "       [5. , 3.5],\n",
       "       [5.1, 3.8],\n",
       "       [4.8, 3. ],\n",
       "       [5.1, 3.8],\n",
       "       [4.6, 3.2],\n",
       "       [5.3, 3.7],\n",
       "       [5. , 3.3],\n",
       "       [7. , 3.2],\n",
       "       [6.4, 3.2],\n",
       "       [6.9, 3.1],\n",
       "       [5.5, 2.3],\n",
       "       [6.5, 2.8],\n",
       "       [5.7, 2.8],\n",
       "       [6.3, 3.3],\n",
       "       [4.9, 2.4],\n",
       "       [6.6, 2.9],\n",
       "       [5.2, 2.7],\n",
       "       [5. , 2. ],\n",
       "       [5.9, 3. ],\n",
       "       [6. , 2.2],\n",
       "       [6.1, 2.9],\n",
       "       [5.6, 2.9],\n",
       "       [6.7, 3.1],\n",
       "       [5.6, 3. ],\n",
       "       [5.8, 2.7],\n",
       "       [6.2, 2.2],\n",
       "       [5.6, 2.5],\n",
       "       [5.9, 3.2],\n",
       "       [6.1, 2.8],\n",
       "       [6.3, 2.5],\n",
       "       [6.1, 2.8],\n",
       "       [6.4, 2.9],\n",
       "       [6.6, 3. ],\n",
       "       [6.8, 2.8],\n",
       "       [6.7, 3. ],\n",
       "       [6. , 2.9],\n",
       "       [5.7, 2.6],\n",
       "       [5.5, 2.4],\n",
       "       [5.5, 2.4],\n",
       "       [5.8, 2.7],\n",
       "       [6. , 2.7],\n",
       "       [5.4, 3. ],\n",
       "       [6. , 3.4],\n",
       "       [6.7, 3.1],\n",
       "       [6.3, 2.3],\n",
       "       [5.6, 3. ],\n",
       "       [5.5, 2.5],\n",
       "       [5.5, 2.6],\n",
       "       [6.1, 3. ],\n",
       "       [5.8, 2.6],\n",
       "       [5. , 2.3],\n",
       "       [5.6, 2.7],\n",
       "       [5.7, 3. ],\n",
       "       [5.7, 2.9],\n",
       "       [6.2, 2.9],\n",
       "       [5.1, 2.5],\n",
       "       [5.7, 2.8],\n",
       "       [6.3, 3.3],\n",
       "       [5.8, 2.7],\n",
       "       [7.1, 3. ],\n",
       "       [6.3, 2.9],\n",
       "       [6.5, 3. ],\n",
       "       [7.6, 3. ],\n",
       "       [4.9, 2.5],\n",
       "       [7.3, 2.9],\n",
       "       [6.7, 2.5],\n",
       "       [7.2, 3.6],\n",
       "       [6.5, 3.2],\n",
       "       [6.4, 2.7],\n",
       "       [6.8, 3. ],\n",
       "       [5.7, 2.5],\n",
       "       [5.8, 2.8],\n",
       "       [6.4, 3.2],\n",
       "       [6.5, 3. ],\n",
       "       [7.7, 3.8],\n",
       "       [7.7, 2.6],\n",
       "       [6. , 2.2],\n",
       "       [6.9, 3.2],\n",
       "       [5.6, 2.8],\n",
       "       [7.7, 2.8],\n",
       "       [6.3, 2.7],\n",
       "       [6.7, 3.3],\n",
       "       [7.2, 3.2],\n",
       "       [6.2, 2.8],\n",
       "       [6.1, 3. ],\n",
       "       [6.4, 2.8],\n",
       "       [7.2, 3. ],\n",
       "       [7.4, 2.8],\n",
       "       [7.9, 3.8],\n",
       "       [6.4, 2.8],\n",
       "       [6.3, 2.8],\n",
       "       [6.1, 2.6],\n",
       "       [7.7, 3. ],\n",
       "       [6.3, 3.4],\n",
       "       [6.4, 3.1],\n",
       "       [6. , 3. ],\n",
       "       [6.9, 3.1],\n",
       "       [6.7, 3.1],\n",
       "       [6.9, 3.1],\n",
       "       [5.8, 2.7],\n",
       "       [6.8, 3.2],\n",
       "       [6.7, 3.3],\n",
       "       [6.7, 3. ],\n",
       "       [6.3, 2.5],\n",
       "       [6.5, 3. ],\n",
       "       [6.2, 3.4],\n",
       "       [5.9, 3. ]])"
      ]
     },
     "execution_count": 57,
     "metadata": {},
     "output_type": "execute_result"
    }
   ],
   "source": [
    "X[0:,0:2]"
   ]
  },
  {
   "cell_type": "code",
   "execution_count": 33,
   "metadata": {
    "colab": {
     "base_uri": "https://localhost:8080/"
    },
    "id": "HntWfi2V7tZp",
    "outputId": "c4846d82-2db4-4557-b569-152ea828cdb2",
    "tags": []
   },
   "outputs": [
    {
     "name": "stdout",
     "output_type": "stream",
     "text": [
      "Data shape: (150, 4)\n",
      "Examples:\n",
      " [[5.1 3.5 1.4 0.2]\n",
      " [4.9 3.  1.4 0.2]\n",
      " [4.7 3.2 1.3 0.2]\n",
      " [4.6 3.1 1.5 0.2]\n",
      " [5.  3.6 1.4 0.2]\n",
      " [5.4 3.9 1.7 0.4]\n",
      " [4.6 3.4 1.4 0.3]\n",
      " [5.  3.4 1.5 0.2]\n",
      " [4.4 2.9 1.4 0.2]\n",
      " [4.9 3.1 1.5 0.1]]\n",
      "\n",
      "Labels shape (150,)\n",
      "Examples:\n",
      " [0 0 0 0 0 0 0 0 0 0 0 0 0 0 0 0 0 0 0 0 0 0 0 0 0 0 0 0 0 0 0 0 0 0 0 0 0\n",
      " 0 0 0 0 0 0 0 0 0 0 0 0 0 1 1 1 1 1 1 1 1 1 1 1 1 1 1 1 1 1 1 1 1 1 1 1 1\n",
      " 1 1 1 1 1 1 1 1 1 1 1 1 1 1 1 1 1 1 1 1 1 1 1 1 1 1 2 2 2 2 2 2 2 2 2 2 2\n",
      " 2 2 2 2 2 2 2 2 2 2 2 2 2 2 2 2 2 2 2 2 2 2 2 2 2 2 2 2 2 2 2 2 2 2 2 2 2\n",
      " 2 2]\n",
      "Class names: ['setosa' 'versicolor' 'virginica']\n"
     ]
    }
   ],
   "source": [
    "# Load data\n",
    "iris = load_iris()\n",
    "X = iris.data\n",
    "Y = iris.target\n",
    "\n",
    "print(\"Data shape:\", X.shape)\n",
    "print(\"Examples:\\n\", X[:10])\n",
    "print(\"\\nLabels shape\", Y.shape)\n",
    "print(\"Examples:\\n\", Y)\n",
    "print(\"Class names:\", iris.target_names)"
   ]
  },
  {
   "cell_type": "code",
   "execution_count": 34,
   "metadata": {
    "colab": {
     "base_uri": "https://localhost:8080/"
    },
    "id": "IRMVDy3wWS3W",
    "outputId": "a4bd53da-1674-499e-e3eb-a22a21c052ed",
    "tags": []
   },
   "outputs": [
    {
     "data": {
      "text/plain": [
       "['sepal length (cm)',\n",
       " 'sepal width (cm)',\n",
       " 'petal length (cm)',\n",
       " 'petal width (cm)']"
      ]
     },
     "execution_count": 34,
     "metadata": {},
     "output_type": "execute_result"
    }
   ],
   "source": [
    "# Print more info\n",
    "iris.feature_names"
   ]
  },
  {
   "cell_type": "code",
   "execution_count": 35,
   "metadata": {
    "colab": {
     "base_uri": "https://localhost:8080/",
     "height": 282
    },
    "id": "XusrHpWi7tZ7",
    "outputId": "13fc29a7-cb9b-491e-ed5a-b79819a8dcbb",
    "tags": []
   },
   "outputs": [
    {
     "data": {
      "image/png": "[encoded data removed]",
      "text/plain": [
       "<Figure size 1000x400 with 1 Axes>"
      ]
     },
     "metadata": {
      "needs_background": "light"
     },
     "output_type": "display_data"
    }
   ],
   "source": [
    "# Plot two features: petal length and petal width\n",
    "plt.figure(figsize=(10, 4))\n",
    "plt.scatter(X[Y==0, 0], X[Y==0, 1], label=iris.target_names[0])\n",
    "plt.scatter(X[Y==1, 0], X[Y==1, 1], label=iris.target_names[1])\n",
    "plt.scatter(X[Y==2, 0], X[Y==2, 1], label=iris.target_names[2])\n",
    "plt.legend()\n",
    "plt.grid(True)\n",
    "plt.xlabel(iris.feature_names[0])\n",
    "plt.ylabel(iris.feature_names[1])\n",
    "plt.show()"
   ]
  },
  {
   "cell_type": "markdown",
   "metadata": {
    "id": "wgbNzUqB7taX"
   },
   "source": [
    "# Part 2: Perceptron"
   ]
  },
  {
   "cell_type": "code",
   "execution_count": 39,
   "metadata": {
    "id": "0p6frzZN7taf",
    "tags": []
   },
   "outputs": [],
   "source": [
    "# Define class linear (step) perceptron\n",
    "class LPerceptron:\n",
    "  #constructor\n",
    "  def __init__ (self):\n",
    "    self.w = None\n",
    "    self.b = None\n",
    "  \n",
    "  #activation function  \n",
    "  def activation(self, x):\n",
    "    return 1 if (np.dot(self.w, x) >= self.b) else 0\n",
    "  \n",
    "  #predict on data\n",
    "  def predict(self, X):\n",
    "    Y = []\n",
    "    for x in X:\n",
    "      result = self.activation(x)\n",
    "      Y.append(result)\n",
    "    return np.array(Y)\n",
    "\n",
    "  #train\n",
    "  def fit(self, X, Y, n_epochs=1, lr=1, val_split=0.1, verbose=False):\n",
    "    x_train, x_val, y_train, y_val = train_test_split(X, Y, test_size=val_split) #split train into train and val\n",
    "    \n",
    "    self.w = np.random.rand(X.shape[1])\n",
    "    self.b = 0.0\n",
    "    \n",
    "    accuracy = np.zeros((2,))\n",
    "    accuracy[0] = accuracy_score(y_train, self.predict(x_train))\n",
    "    accuracy[1] = accuracy_score(y_val, self.predict(x_val))\n",
    "    if verbose:\n",
    "      print(f\"Epoch: {0:3d} -- acc: {accuracy[0]:6.4f}, acc_val: {accuracy[1]:6.4f}\")\n",
    "    \n",
    "    accuracy = np.zeros((n_epochs, 2))\n",
    "    for epoch in range(n_epochs): #loop through epochs\n",
    "      for x, y in zip(x_train, y_train):  #loop through samples\n",
    "        y_hat = self.activation(x)\n",
    "        d_err = y - y_hat\n",
    "        self.w = self.w + lr * d_err * x  #LA\n",
    "        self.b = self.b + lr * d_err      #LB\n",
    "      accuracy[epoch, 0] = accuracy_score(y_train, self.predict(x_train))\n",
    "      accuracy[epoch, 1] = accuracy_score(y_val, self.predict(x_val))\n",
    "      if verbose:\n",
    "        print(f\"Epoch: {epoch+1:3d} -- acc: {accuracy[epoch, 0]:6.4f}, acc_val: {accuracy[epoch, 1]:6.4f}\")\n",
    "        \n",
    "    return accuracy"
   ]
  },
  {
   "cell_type": "code",
   "execution_count": 40,
   "metadata": {
    "id": "2P-MIPR57tak",
    "tags": []
   },
   "outputs": [],
   "source": [
    "# == Q2: ==\n",
    "# Explica qué sucede en las líneas comentadas como #LA y #LB.\n",
    "# ¿Qué significa cada térmido de las ecuaciones?\n",
    "# ¿Por qué las expresiones contienen el término \"d_err\"?\n",
    "# ¿Por qué la expresión en #LA contiene la variable de entrada \"x\"?\n",
    "# ¿Cuántas iteraciones suceden en el loop interno del método fit?"
   ]
  },
  {
   "cell_type": "code",
   "execution_count": 41,
   "metadata": {
    "colab": {
     "base_uri": "https://localhost:8080/"
    },
    "id": "BsaWRsdp7tas",
    "outputId": "451ed0d0-f8d8-4d7f-c6cd-bac3f7b998b3",
    "tags": []
   },
   "outputs": [
    {
     "name": "stdout",
     "output_type": "stream",
     "text": [
      "Epoch:   0 -- acc: 0.3223, acc_val: 0.3571\n",
      "Epoch:   1 -- acc: 0.3223, acc_val: 0.3571\n",
      "Epoch:   2 -- acc: 0.3223, acc_val: 0.3571\n",
      "Epoch:   3 -- acc: 0.3223, acc_val: 0.3571\n",
      "Epoch:   4 -- acc: 0.3223, acc_val: 0.3571\n",
      "Epoch:   5 -- acc: 0.3223, acc_val: 0.3571\n",
      "Epoch:   6 -- acc: 0.3223, acc_val: 0.3571\n",
      "Epoch:   7 -- acc: 0.3223, acc_val: 0.3571\n",
      "Epoch:   8 -- acc: 0.3223, acc_val: 0.3571\n",
      "Epoch:   9 -- acc: 0.3223, acc_val: 0.3571\n",
      "Epoch:  10 -- acc: 0.3223, acc_val: 0.3571\n",
      "Epoch:  11 -- acc: 0.3223, acc_val: 0.3571\n",
      "Epoch:  12 -- acc: 0.3223, acc_val: 0.3571\n",
      "Epoch:  13 -- acc: 0.3223, acc_val: 0.3571\n",
      "Epoch:  14 -- acc: 0.3223, acc_val: 0.3571\n",
      "Epoch:  15 -- acc: 0.3223, acc_val: 0.3571\n",
      "Epoch:  16 -- acc: 0.3223, acc_val: 0.3571\n",
      "Epoch:  17 -- acc: 0.3223, acc_val: 0.3571\n",
      "Epoch:  18 -- acc: 0.3223, acc_val: 0.3571\n",
      "Epoch:  19 -- acc: 0.3223, acc_val: 0.3571\n",
      "Epoch:  20 -- acc: 0.3223, acc_val: 0.3571\n",
      "Epoch:  21 -- acc: 0.3223, acc_val: 0.3571\n",
      "Epoch:  22 -- acc: 0.3223, acc_val: 0.3571\n",
      "Epoch:  23 -- acc: 0.3223, acc_val: 0.3571\n",
      "Epoch:  24 -- acc: 0.3223, acc_val: 0.3571\n",
      "Epoch:  25 -- acc: 0.3223, acc_val: 0.3571\n",
      "Epoch:  26 -- acc: 0.3223, acc_val: 0.3571\n",
      "Epoch:  27 -- acc: 0.3223, acc_val: 0.3571\n",
      "Epoch:  28 -- acc: 0.3223, acc_val: 0.3571\n",
      "Epoch:  29 -- acc: 0.3223, acc_val: 0.3571\n",
      "Epoch:  30 -- acc: 0.3223, acc_val: 0.3571\n",
      "Epoch:  31 -- acc: 0.3223, acc_val: 0.3571\n",
      "Epoch:  32 -- acc: 0.3223, acc_val: 0.3571\n",
      "Epoch:  33 -- acc: 0.3223, acc_val: 0.3571\n",
      "Epoch:  34 -- acc: 0.3223, acc_val: 0.3571\n",
      "Epoch:  35 -- acc: 0.3223, acc_val: 0.3571\n",
      "Epoch:  36 -- acc: 0.3223, acc_val: 0.3571\n",
      "Epoch:  37 -- acc: 0.3223, acc_val: 0.3571\n",
      "Epoch:  38 -- acc: 0.3223, acc_val: 0.3571\n",
      "Epoch:  39 -- acc: 0.3223, acc_val: 0.3571\n",
      "Epoch:  40 -- acc: 0.3223, acc_val: 0.3571\n",
      "Epoch:  41 -- acc: 0.3223, acc_val: 0.3571\n",
      "Epoch:  42 -- acc: 0.3223, acc_val: 0.3571\n",
      "Epoch:  43 -- acc: 0.3223, acc_val: 0.3571\n",
      "Epoch:  44 -- acc: 0.3223, acc_val: 0.3571\n",
      "Epoch:  45 -- acc: 0.3223, acc_val: 0.3571\n",
      "Epoch:  46 -- acc: 0.3223, acc_val: 0.3571\n",
      "Epoch:  47 -- acc: 0.3223, acc_val: 0.3571\n",
      "Epoch:  48 -- acc: 0.3223, acc_val: 0.3571\n",
      "Epoch:  49 -- acc: 0.3223, acc_val: 0.3571\n",
      "Epoch:  50 -- acc: 0.3223, acc_val: 0.3571\n"
     ]
    }
   ],
   "source": [
    "# Create a model and train it for 50 epochs\n",
    "perceptron = LPerceptron()\n",
    "acc_history = perceptron.fit(x_train, y_train, n_epochs=50, lr=0.00001, val_split=0.1, verbose=True)\n",
    "# Encuentra el mejor learning rate lr"
   ]
  },
  {
   "cell_type": "code",
   "execution_count": 43,
   "metadata": {
    "colab": {
     "base_uri": "https://localhost:8080/"
    },
    "id": "RX8gJ98P7tax",
    "outputId": "1983e451-6dc4-4b98-d56d-e94af28df6b2",
    "tags": []
   },
   "outputs": [
    {
     "name": "stdout",
     "output_type": "stream",
     "text": [
      "Test acc: 0.4\n"
     ]
    }
   ],
   "source": [
    "# Making predictions on test data\n",
    "y_test_hat = perceptron.predict(x_test)\n",
    "print(\"Test acc:\", accuracy_score(y_test_hat, y_test))"
   ]
  },
  {
   "cell_type": "code",
   "execution_count": 44,
   "metadata": {
    "colab": {
     "base_uri": "https://localhost:8080/"
    },
    "id": "HU4c3P8y7ta5",
    "outputId": "3597106d-62e8-48f2-8545-4c10586405ee",
    "tags": []
   },
   "outputs": [
    {
     "name": "stdout",
     "output_type": "stream",
     "text": [
      "Weights: [0.26524913 0.72328967 0.44867757 0.17563467]\n",
      "bias: -1.0164395367051604e-20\n"
     ]
    }
   ],
   "source": [
    "# Show the final values for the weights and bias\n",
    "print(\"Weights:\", perceptron.w)\n",
    "print(\"bias:\", perceptron.b)"
   ]
  },
  {
   "cell_type": "code",
   "execution_count": 55,
   "metadata": {
    "tags": []
   },
   "outputs": [
    {
     "data": {
      "text/plain": [
       "array([[6.4, 3.2, 5.3, 2.3],\n",
       "       [5.3, 3.7, 1.5, 0.2],\n",
       "       [4.9, 2.5, 4.5, 1.7],\n",
       "       [5. , 3.5, 1.3, 0.3],\n",
       "       [6.5, 3. , 5.2, 2. ],\n",
       "       [4.9, 3.1, 1.5, 0.2],\n",
       "       [5.1, 3.5, 1.4, 0.3],\n",
       "       [5.4, 3.9, 1.3, 0.4],\n",
       "       [6. , 2.2, 5. , 1.5],\n",
       "       [6.7, 2.5, 5.8, 1.8],\n",
       "       [6.4, 2.9, 4.3, 1.3],\n",
       "       [5.5, 2.5, 4. , 1.3],\n",
       "       [6.2, 3.4, 5.4, 2.3],\n",
       "       [5.5, 2.3, 4. , 1.3],\n",
       "       [5.8, 2.7, 3.9, 1.2],\n",
       "       [6.5, 3.2, 5.1, 2. ],\n",
       "       [5.8, 2.6, 4. , 1.2],\n",
       "       [4.7, 3.2, 1.3, 0.2],\n",
       "       [4.9, 3.6, 1.4, 0.1],\n",
       "       [5.5, 2.4, 3.7, 1. ],\n",
       "       [6.8, 3.2, 5.9, 2.3],\n",
       "       [5.8, 2.8, 5.1, 2.4],\n",
       "       [6.7, 3. , 5.2, 2.3],\n",
       "       [5.1, 3.8, 1.9, 0.4],\n",
       "       [5.5, 2.6, 4.4, 1.2],\n",
       "       [6. , 2.2, 4. , 1. ],\n",
       "       [6. , 3.4, 4.5, 1.6],\n",
       "       [6.8, 2.8, 4.8, 1.4],\n",
       "       [7.7, 3.8, 6.7, 2.2],\n",
       "       [5.4, 3.4, 1.7, 0.2],\n",
       "       [6. , 3. , 4.8, 1.8],\n",
       "       [6.7, 3.1, 4.7, 1.5],\n",
       "       [5.4, 3.7, 1.5, 0.2],\n",
       "       [5. , 2.3, 3.3, 1. ],\n",
       "       [6.9, 3.1, 5.4, 2.1],\n",
       "       [5.2, 4.1, 1.5, 0.1],\n",
       "       [4.9, 3.1, 1.5, 0.1],\n",
       "       [5.2, 2.7, 3.9, 1.4],\n",
       "       [7.7, 3. , 6.1, 2.3],\n",
       "       [6.5, 2.8, 4.6, 1.5],\n",
       "       [7.2, 3. , 5.8, 1.6],\n",
       "       [5. , 3.4, 1.5, 0.2],\n",
       "       [4.8, 3.4, 1.9, 0.2],\n",
       "       [5.1, 3.3, 1.7, 0.5],\n",
       "       [5. , 3. , 1.6, 0.2],\n",
       "       [6.3, 2.8, 5.1, 1.5],\n",
       "       [5.5, 2.4, 3.8, 1.1],\n",
       "       [6.3, 2.7, 4.9, 1.8],\n",
       "       [6.1, 2.9, 4.7, 1.4],\n",
       "       [4.6, 3.6, 1. , 0.2],\n",
       "       [5.1, 2.5, 3. , 1.1],\n",
       "       [5.4, 3.9, 1.7, 0.4],\n",
       "       [7.4, 2.8, 6.1, 1.9],\n",
       "       [7.2, 3.6, 6.1, 2.5],\n",
       "       [6.4, 2.8, 5.6, 2.1],\n",
       "       [6.3, 2.3, 4.4, 1.3],\n",
       "       [6.3, 3.3, 4.7, 1.6],\n",
       "       [6.1, 2.8, 4.7, 1.2],\n",
       "       [5.9, 3.2, 4.8, 1.8],\n",
       "       [6.9, 3.2, 5.7, 2.3],\n",
       "       [5.7, 2.8, 4.1, 1.3],\n",
       "       [5. , 2. , 3.5, 1. ],\n",
       "       [5. , 3.3, 1.4, 0.2],\n",
       "       [5. , 3.4, 1.6, 0.4],\n",
       "       [6.7, 3. , 5. , 1.7],\n",
       "       [6.1, 2.8, 4. , 1.3],\n",
       "       [6.1, 3. , 4.6, 1.4],\n",
       "       [7. , 3.2, 4.7, 1.4],\n",
       "       [5.7, 3.8, 1.7, 0.3],\n",
       "       [4.9, 2.4, 3.3, 1. ],\n",
       "       [4.4, 3. , 1.3, 0.2],\n",
       "       [4.8, 3. , 1.4, 0.1],\n",
       "       [6.1, 2.6, 5.6, 1.4],\n",
       "       [5.1, 3.7, 1.5, 0.4],\n",
       "       [6.3, 2.9, 5.6, 1.8],\n",
       "       [6.4, 3.2, 4.5, 1.5],\n",
       "       [5. , 3.5, 1.6, 0.6],\n",
       "       [5. , 3.6, 1.4, 0.2],\n",
       "       [5.8, 4. , 1.2, 0.2],\n",
       "       [6.7, 3.3, 5.7, 2.5],\n",
       "       [4.5, 2.3, 1.3, 0.3],\n",
       "       [6.5, 3. , 5.8, 2.2],\n",
       "       [6. , 2.9, 4.5, 1.5],\n",
       "       [4.7, 3.2, 1.6, 0.2],\n",
       "       [6.1, 3. , 4.9, 1.8],\n",
       "       [5.1, 3.8, 1.5, 0.3],\n",
       "       [4.4, 3.2, 1.3, 0.2],\n",
       "       [6.2, 2.8, 4.8, 1.8],\n",
       "       [5.6, 3. , 4.1, 1.3],\n",
       "       [6.7, 3.3, 5.7, 2.1],\n",
       "       [6. , 2.7, 5.1, 1.6],\n",
       "       [6.7, 3.1, 5.6, 2.4],\n",
       "       [5.7, 2.5, 5. , 2. ],\n",
       "       [5.6, 2.7, 4.2, 1.3],\n",
       "       [7.7, 2.8, 6.7, 2. ],\n",
       "       [6.9, 3.1, 5.1, 2.3],\n",
       "       [5.8, 2.7, 4.1, 1. ],\n",
       "       [4.8, 3. , 1.4, 0.3],\n",
       "       [4.8, 3.1, 1.6, 0.2],\n",
       "       [5.7, 2.9, 4.2, 1.3],\n",
       "       [6.6, 2.9, 4.6, 1.3],\n",
       "       [5.4, 3.4, 1.5, 0.4],\n",
       "       [6.4, 3.1, 5.5, 1.8],\n",
       "       [6.3, 3.4, 5.6, 2.4],\n",
       "       [7.1, 3. , 5.9, 2.1],\n",
       "       [5.7, 3. , 4.2, 1.2],\n",
       "       [6.4, 2.8, 5.6, 2.2],\n",
       "       [5.9, 3. , 5.1, 1.8],\n",
       "       [5.2, 3.4, 1.4, 0.2],\n",
       "       [5.7, 2.8, 4.5, 1.3],\n",
       "       [6.4, 2.7, 5.3, 1.9],\n",
       "       [5.1, 3.4, 1.5, 0.2],\n",
       "       [4.6, 3.2, 1.4, 0.2],\n",
       "       [5.5, 3.5, 1.3, 0.2],\n",
       "       [4.6, 3.4, 1.4, 0.3],\n",
       "       [6.3, 3.3, 6. , 2.5],\n",
       "       [5.6, 3. , 4.5, 1.5],\n",
       "       [5.8, 2.7, 5.1, 1.9],\n",
       "       [4.9, 3. , 1.4, 0.2],\n",
       "       [5.2, 3.5, 1.5, 0.2],\n",
       "       [4.4, 2.9, 1.4, 0.2],\n",
       "       [5.6, 2.8, 4.9, 2. ],\n",
       "       [6.6, 3. , 4.4, 1.4],\n",
       "       [6.2, 2.2, 4.5, 1.5],\n",
       "       [7.9, 3.8, 6.4, 2. ],\n",
       "       [4.8, 3.4, 1.6, 0.2],\n",
       "       [5.7, 2.6, 3.5, 1. ],\n",
       "       [7.7, 2.6, 6.9, 2.3],\n",
       "       [7.3, 2.9, 6.3, 1.8],\n",
       "       [6.2, 2.9, 4.3, 1.3],\n",
       "       [6.5, 3. , 5.5, 1.8],\n",
       "       [4.6, 3.1, 1.5, 0.2],\n",
       "       [5.1, 3.8, 1.6, 0.2],\n",
       "       [6.3, 2.5, 4.9, 1.5],\n",
       "       [5.7, 4.4, 1.5, 0.4]])"
      ]
     },
     "execution_count": 55,
     "metadata": {},
     "output_type": "execute_result"
    }
   ],
   "source": [
    "x_train"
   ]
  },
  {
   "cell_type": "code",
   "execution_count": 56,
   "metadata": {
    "colab": {
     "base_uri": "https://localhost:8080/"
    },
    "id": "m0PG_tVB7ta8",
    "outputId": "7b3eef0a-4383-43a6-b689-e9eefafb0147",
    "tags": []
   },
   "outputs": [
    {
     "ename": "ValueError",
     "evalue": "shapes (2,) and (4,) not aligned: 2 (dim 0) != 4 (dim 0)",
     "output_type": "error",
     "traceback": [
      "\u001b[0;31m---------------------------------------------------------------------------\u001b[0m",
      "\u001b[0;31mValueError\u001b[0m                                Traceback (most recent call last)",
      "Cell \u001b[0;32mIn[56], line 11\u001b[0m\n\u001b[1;32m      9\u001b[0m   acc_history \u001b[38;5;241m=\u001b[39m perceptron\u001b[38;5;241m.\u001b[39mfit(x_train[\u001b[38;5;241m0\u001b[39m:,\u001b[38;5;241m0\u001b[39m:\u001b[38;5;241m2\u001b[39m], y_train, n_epochs\u001b[38;5;241m=\u001b[39m\u001b[38;5;241m50\u001b[39m, lr\u001b[38;5;241m=\u001b[39m\u001b[38;5;241m0.001\u001b[39m, val_split\u001b[38;5;241m=\u001b[39m\u001b[38;5;241m0.1\u001b[39m, verbose\u001b[38;5;241m=\u001b[39m\u001b[38;5;28;01mFalse\u001b[39;00m) \u001b[38;5;66;03m# Completar aquí\u001b[39;00m\n\u001b[1;32m     10\u001b[0m   ACC[ind, \u001b[38;5;241m0\u001b[39m], ACC[ind, \u001b[38;5;241m1\u001b[39m] \u001b[38;5;241m=\u001b[39m acc_history[\u001b[38;5;241m-\u001b[39m\u001b[38;5;241m1\u001b[39m]\n\u001b[0;32m---> 11\u001b[0m   y_test_hat \u001b[38;5;241m=\u001b[39m \u001b[43mperceptron\u001b[49m\u001b[38;5;241;43m.\u001b[39;49m\u001b[43mpredict\u001b[49m\u001b[43m(\u001b[49m\u001b[43mx_test\u001b[49m\u001b[43m)\u001b[49m\n\u001b[1;32m     12\u001b[0m   ACC[ind, \u001b[38;5;241m2\u001b[39m] \u001b[38;5;241m=\u001b[39m accuracy_score(y_test_hat, y_test)\n\u001b[1;32m     14\u001b[0m \u001b[38;5;28mprint\u001b[39m(\u001b[38;5;124mf\u001b[39m\u001b[38;5;124m\"\u001b[39m\u001b[38;5;124mTraining:\u001b[39m\u001b[38;5;130;01m\\t\u001b[39;00m\u001b[38;5;124m \u001b[39m\u001b[38;5;132;01m{\u001b[39;00mACC[:,\u001b[38;5;250m \u001b[39m\u001b[38;5;241m0\u001b[39m]\u001b[38;5;241m.\u001b[39mmean()\u001b[38;5;132;01m:\u001b[39;00m\u001b[38;5;124m6.4f\u001b[39m\u001b[38;5;132;01m}\u001b[39;00m\u001b[38;5;124m +- \u001b[39m\u001b[38;5;132;01m{\u001b[39;00mACC[:,\u001b[38;5;250m \u001b[39m\u001b[38;5;241m0\u001b[39m]\u001b[38;5;241m.\u001b[39mstd()\u001b[38;5;132;01m:\u001b[39;00m\u001b[38;5;124m6.4f\u001b[39m\u001b[38;5;132;01m}\u001b[39;00m\u001b[38;5;124m\"\u001b[39m)\n",
      "Cell \u001b[0;32mIn[39], line 16\u001b[0m, in \u001b[0;36mLPerceptron.predict\u001b[0;34m(self, X)\u001b[0m\n\u001b[1;32m     14\u001b[0m Y \u001b[38;5;241m=\u001b[39m []\n\u001b[1;32m     15\u001b[0m \u001b[38;5;28;01mfor\u001b[39;00m x \u001b[38;5;129;01min\u001b[39;00m X:\n\u001b[0;32m---> 16\u001b[0m   result \u001b[38;5;241m=\u001b[39m \u001b[38;5;28;43mself\u001b[39;49m\u001b[38;5;241;43m.\u001b[39;49m\u001b[43mactivation\u001b[49m\u001b[43m(\u001b[49m\u001b[43mx\u001b[49m\u001b[43m)\u001b[49m\n\u001b[1;32m     17\u001b[0m   Y\u001b[38;5;241m.\u001b[39mappend(result)\n\u001b[1;32m     18\u001b[0m \u001b[38;5;28;01mreturn\u001b[39;00m np\u001b[38;5;241m.\u001b[39marray(Y)\n",
      "Cell \u001b[0;32mIn[39], line 10\u001b[0m, in \u001b[0;36mLPerceptron.activation\u001b[0;34m(self, x)\u001b[0m\n\u001b[1;32m      9\u001b[0m \u001b[38;5;28;01mdef\u001b[39;00m \u001b[38;5;21mactivation\u001b[39m(\u001b[38;5;28mself\u001b[39m, x):\n\u001b[0;32m---> 10\u001b[0m   \u001b[38;5;28;01mreturn\u001b[39;00m \u001b[38;5;241m1\u001b[39m \u001b[38;5;28;01mif\u001b[39;00m (\u001b[43mnp\u001b[49m\u001b[38;5;241;43m.\u001b[39;49m\u001b[43mdot\u001b[49m\u001b[43m(\u001b[49m\u001b[38;5;28;43mself\u001b[39;49m\u001b[38;5;241;43m.\u001b[39;49m\u001b[43mw\u001b[49m\u001b[43m,\u001b[49m\u001b[43m \u001b[49m\u001b[43mx\u001b[49m\u001b[43m)\u001b[49m \u001b[38;5;241m>\u001b[39m\u001b[38;5;241m=\u001b[39m \u001b[38;5;28mself\u001b[39m\u001b[38;5;241m.\u001b[39mb) \u001b[38;5;28;01melse\u001b[39;00m \u001b[38;5;241m0\u001b[39m\n",
      "File \u001b[0;32m<__array_function__ internals>:200\u001b[0m, in \u001b[0;36mdot\u001b[0;34m(*args, **kwargs)\u001b[0m\n",
      "\u001b[0;31mValueError\u001b[0m: shapes (2,) and (4,) not aligned: 2 (dim 0) != 4 (dim 0)"
     ]
    }
   ],
   "source": [
    "# == Q3: ==\n",
    "# Corre el experimento anterior 100 veces (quizás quieras establecer verbose=False),\n",
    "# y reporta el promedio +- desviación estándar obtenidos al final de la última época de cada corrida.\n",
    "# Debes reportar 3 promedios: para training, validation, y test sets\n",
    "# ¿Notas algún cambio significativo?\n",
    "ACC = np.zeros((100, 3))\n",
    "for ind in range(100):\n",
    "  perceptron = LPerceptron()\n",
    "  acc_history = perceptron.fit(x_train[0:,0:2], y_train, n_epochs=50, lr=0.001, val_split=0.1, verbose=False) # Completar aquí\n",
    "  ACC[ind, 0], ACC[ind, 1] = acc_history[-1]\n",
    "  y_test_hat = perceptron.predict(x_test)\n",
    "  ACC[ind, 2] = accuracy_score(y_test_hat, y_test)\n",
    "    \n",
    "print(f\"Training:\\t {ACC[:, 0].mean():6.4f} +- {ACC[:, 0].std():6.4f}\")\n",
    "print(f\"Validation:\\t {ACC[:, 1].mean():6.4f} +- {ACC[:, 1].std():6.4f}\")\n",
    "print(f\"Test:\\t\\t {ACC[:, 2].mean():6.4f} +- {ACC[:, 2].std():6.4f}\")"
   ]
  },
  {
   "cell_type": "code",
   "execution_count": 21,
   "metadata": {
    "colab": {
     "base_uri": "https://localhost:8080/"
    },
    "id": "rZr_5-kb7tbB",
    "outputId": "6685c7d2-daff-4c3b-c7c0-281755f9f007",
    "tags": []
   },
   "outputs": [
    {
     "ename": "AttributeError",
     "evalue": "'DataFrame' object has no attribute 'data'",
     "output_type": "error",
     "traceback": [
      "\u001b[0;31m---------------------------------------------------------------------------\u001b[0m",
      "\u001b[0;31mAttributeError\u001b[0m                            Traceback (most recent call last)",
      "Cell \u001b[0;32mIn[21], line 6\u001b[0m\n\u001b[1;32m      1\u001b[0m \u001b[38;5;66;03m# == Q4: ==\u001b[39;00m\n\u001b[1;32m      2\u001b[0m \u001b[38;5;66;03m# Repite el experimento anterior pero ahora usando las 4 variables de los datos (en vez de sólo 2)\u001b[39;00m\n\u001b[1;32m      3\u001b[0m \u001b[38;5;66;03m# ¿Hubo algún cambio significativo en los resultados obtenidos?\u001b[39;00m\n\u001b[1;32m      4\u001b[0m \u001b[38;5;66;03m# ¿Por qué crees que fue esto?\u001b[39;00m\n\u001b[0;32m----> 6\u001b[0m X \u001b[38;5;241m=\u001b[39m \u001b[43miris\u001b[49m\u001b[38;5;241;43m.\u001b[39;49m\u001b[43mdata\u001b[49m[:\u001b[38;5;241m100\u001b[39m]   \u001b[38;5;66;03m# Completar aquí\u001b[39;00m\n\u001b[1;32m      7\u001b[0m Y \u001b[38;5;241m=\u001b[39m iris\u001b[38;5;241m.\u001b[39mtarget[:\u001b[38;5;241m100\u001b[39m] \u001b[38;5;66;03m# Completar aquí\u001b[39;00m\n\u001b[1;32m      9\u001b[0m \u001b[38;5;28mprint\u001b[39m(X\u001b[38;5;241m.\u001b[39mshape)\n",
      "File \u001b[0;32m~/anaconda3/envs/itam/lib/python3.10/site-packages/pandas/core/generic.py:5902\u001b[0m, in \u001b[0;36mNDFrame.__getattr__\u001b[0;34m(self, name)\u001b[0m\n\u001b[1;32m   5895\u001b[0m \u001b[38;5;28;01mif\u001b[39;00m (\n\u001b[1;32m   5896\u001b[0m     name \u001b[38;5;129;01mnot\u001b[39;00m \u001b[38;5;129;01min\u001b[39;00m \u001b[38;5;28mself\u001b[39m\u001b[38;5;241m.\u001b[39m_internal_names_set\n\u001b[1;32m   5897\u001b[0m     \u001b[38;5;129;01mand\u001b[39;00m name \u001b[38;5;129;01mnot\u001b[39;00m \u001b[38;5;129;01min\u001b[39;00m \u001b[38;5;28mself\u001b[39m\u001b[38;5;241m.\u001b[39m_metadata\n\u001b[1;32m   5898\u001b[0m     \u001b[38;5;129;01mand\u001b[39;00m name \u001b[38;5;129;01mnot\u001b[39;00m \u001b[38;5;129;01min\u001b[39;00m \u001b[38;5;28mself\u001b[39m\u001b[38;5;241m.\u001b[39m_accessors\n\u001b[1;32m   5899\u001b[0m     \u001b[38;5;129;01mand\u001b[39;00m \u001b[38;5;28mself\u001b[39m\u001b[38;5;241m.\u001b[39m_info_axis\u001b[38;5;241m.\u001b[39m_can_hold_identifiers_and_holds_name(name)\n\u001b[1;32m   5900\u001b[0m ):\n\u001b[1;32m   5901\u001b[0m     \u001b[38;5;28;01mreturn\u001b[39;00m \u001b[38;5;28mself\u001b[39m[name]\n\u001b[0;32m-> 5902\u001b[0m \u001b[38;5;28;01mreturn\u001b[39;00m \u001b[38;5;28;43mobject\u001b[39;49m\u001b[38;5;241;43m.\u001b[39;49m\u001b[38;5;21;43m__getattribute__\u001b[39;49m\u001b[43m(\u001b[49m\u001b[38;5;28;43mself\u001b[39;49m\u001b[43m,\u001b[49m\u001b[43m \u001b[49m\u001b[43mname\u001b[49m\u001b[43m)\u001b[49m\n",
      "\u001b[0;31mAttributeError\u001b[0m: 'DataFrame' object has no attribute 'data'"
     ]
    }
   ],
   "source": [
    "# == Q4: ==\n",
    "# Repite el experimento anterior pero ahora usando las 4 variables de los datos (en vez de sólo 2)\n",
    "# ¿Hubo algún cambio significativo en los resultados obtenidos?\n",
    "# ¿Por qué crees que fue esto?\n",
    "\n",
    "X = iris.data[:100]   # Completar aquí\n",
    "Y = iris.target[:100] # Completar aquí\n",
    "\n",
    "print(X.shape)\n",
    "print(Y.shape)\n",
    "\n",
    "x_train, x_test, y_train, y_test = train_test_split(X, Y, test_size=0.1)\n",
    "\n",
    "ACC = np.zeros((100, 3))\n",
    "for ind in range(100):\n",
    "  perceptron = LPerceptron()\n",
    "  acc_history = perceptron.fit(x_train, y_train, n_epochs=50, lr=0.001, val_split=0.1, verbose=False) # Completar aquí\n",
    "  ACC[ind, 0], ACC[ind, 1] = acc_history[-1]\n",
    "  y_test_hat = perceptron.predict(x_test)\n",
    "  ACC[ind, 2] = accuracy_score(y_test_hat, y_test)\n",
    "    \n",
    "print(f\"Training:\\t {ACC[:, 0].mean():6.4f} +- {ACC[:, 0].std():6.4f}\")\n",
    "print(f\"Validation:\\t {ACC[:, 1].mean():6.4f} +- {ACC[:, 1].std():6.4f}\")\n",
    "print(f\"Test:\\t\\t {ACC[:, 2].mean():6.4f} +- {ACC[:, 2].std():6.4f}\")"
   ]
  },
  {
   "cell_type": "code",
   "execution_count": null,
   "metadata": {
    "colab": {
     "base_uri": "https://localhost:8080/"
    },
    "id": "YepVzR4E7tbF",
    "outputId": "81811374-3c6b-477f-add3-9676bdf4b4da"
   },
   "outputs": [
    {
     "name": "stdout",
     "output_type": "stream",
     "text": [
      "(100, 4)\n",
      "(100,)\n",
      "Training:\t 0.8606 +- 0.0663\n",
      "Validation:\t 0.8489 +- 0.1470\n",
      "Test:\t\t 0.9480 +- 0.0922\n"
     ]
    }
   ],
   "source": [
    "# == Q5: ==\n",
    "# Repite el experimento anterior pero ahora usando las 4 variables de las clases\n",
    "# versicolor (1) y virginica (2).\n",
    "# ¿Hubo algún cambio significativo en los resultados obtenidos?\n",
    "# ¿Por qué crees que fue esto?\n",
    "# ¿Por qué si modificamos los datos, seguimos usando las mismas etiquetas: Y = iris.target[:100]?\n",
    "\n",
    "X = iris.data[50:]\n",
    "Y = iris.target[:100]\n",
    "\n",
    "print(X.shape)\n",
    "print(Y.shape)\n",
    "\n",
    "x_train, x_test, y_train, y_test = train_test_split(X, Y, test_size=0.1)\n",
    "\n",
    "ACC = np.zeros((100, 3))\n",
    "for ind in range(100):\n",
    "  perceptron = LPerceptron()\n",
    "  acc_history = perceptron.fit(x_train, y_train, n_epochs=50, lr=0.001, val_split=0.1, verbose=False) # Completar aquí\n",
    "  ACC[ind, 0], ACC[ind, 1] = acc_history[-1]\n",
    "  y_test_hat = perceptron.predict(x_test)\n",
    "  ACC[ind, 2] = accuracy_score(y_test_hat, y_test)\n",
    "    \n",
    "print(f\"Training:\\t {ACC[:, 0].mean():6.4f} +- {ACC[:, 0].std():6.4f}\")\n",
    "print(f\"Validation:\\t {ACC[:, 1].mean():6.4f} +- {ACC[:, 1].std():6.4f}\")\n",
    "print(f\"Test:\\t\\t {ACC[:, 2].mean():6.4f} +- {ACC[:, 2].std():6.4f}\")"
   ]
  },
  {
   "cell_type": "markdown",
   "metadata": {
    "id": "FKKw7jsm7tbL"
   },
   "source": [
    "# Part 3: Non-linear (sigmoid) Perceptron"
   ]
  },
  {
   "cell_type": "code",
   "execution_count": null,
   "metadata": {
    "id": "qqpjr_lp7tbN"
   },
   "outputs": [],
   "source": [
    "# Completa el siguiente código del perceptron no lineal (sigmoide)"
   ]
  },
  {
   "cell_type": "code",
   "execution_count": null,
   "metadata": {
    "id": "L-cSy1h57tbQ"
   },
   "outputs": [],
   "source": [
    "# Define class perceptron\n",
    "class Perceptron:\n",
    "  #constructor\n",
    "  def __init__ (self):\n",
    "    self.W = None\n",
    "    self.b = None\n",
    "  \n",
    "  #total neuron input\n",
    "  def lin_sum(self, X):\n",
    "    return np.dot(self.W, X) + self.b\n",
    "  \n",
    "  #activation (sigmoid)\n",
    "  def sigmoid(self, s):\n",
    "    return 1.0 / (1.0 + np.exp(-s))\n",
    "  \n",
    "  #derivative of activation (sigmoid)\n",
    "  def d_sigmoid(self, s):\n",
    "    return self.sigmoid(s) * (1.0 - self.sigmoid(s))\n",
    "  \n",
    "  #predict on data\n",
    "  def predict(self, X):\n",
    "    Y = []\n",
    "    for x in X:\n",
    "      s = self.lin_sum(x)\n",
    "      y = self.sigmoid(s)\n",
    "      Y.append(y)\n",
    "    return np.array(Y)\n",
    "\n",
    "  #train\n",
    "  def fit(self, X, Y, n_epochs=1, lr=0.1, val_split=0.1, verbose=False):\n",
    "    x_train, x_val, y_train, y_val = train_test_split(X, Y, test_size=val_split)\n",
    "    \n",
    "    self.W = np.random.rand(X.shape[1])\n",
    "    self.b = 0.0\n",
    "    \n",
    "    accuracy = np.zeros((2,))\n",
    "    accuracy[0] = accuracy_score(y_train, self.predict(x_train).round())\n",
    "    accuracy[1] = accuracy_score(y_val, self.predict(x_val).round())\n",
    "    if verbose:\n",
    "      print(f\"Epoch: {0:3d} -- acc: {accuracy[0]:6.4f}, acc_val: {accuracy[1]:6.4f}\")\n",
    "    \n",
    "    accuracy = np.zeros((n_epochs, 2))\n",
    "    for epoch in range(n_epochs): #loop through epochs\n",
    "      for x, y in zip(x_train, y_train):  #loop through samples\n",
    "        # Forward pass\n",
    "        s = self.lin_sum(x)\n",
    "        y_hat = self.sigmoid(s)\n",
    "        # Backward pass\n",
    "        d_err = y - y_hat\n",
    "        self.W = self.W + ... # Completar aquí\n",
    "        self.b = self.b + ... # Completar aquí\n",
    "      accuracy[epoch, 0] = accuracy_score(y_train, self.predict(x_train).round())\n",
    "      accuracy[epoch, 1] = accuracy_score(y_val, self.predict(x_val).round())\n",
    "      if verbose:\n",
    "        print(f\"Epoch: {epoch+1:3d} -- acc: {accuracy[epoch, 0]:6.4f}, acc_val: {accuracy[epoch, 1]:6.4f}\")\n",
    "        \n",
    "    return accuracy"
   ]
  },
  {
   "cell_type": "code",
   "execution_count": null,
   "metadata": {
    "colab": {
     "base_uri": "https://localhost:8080/"
    },
    "id": "Z7nfJeba7tbV",
    "outputId": "6008732e-34fd-4835-92dd-e0d394fba275"
   },
   "outputs": [
    {
     "name": "stdout",
     "output_type": "stream",
     "text": [
      "(100, 4)\n",
      "(100,)\n",
      "Training:\t 0.9169 +- 0.0881\n",
      "Validation:\t 0.9222 +- 0.0988\n",
      "Test:\t\t 0.8930 +- 0.1451\n"
     ]
    }
   ],
   "source": [
    "# == Q6: ==\n",
    "# Repite el experimento anterior usando las 4 variables de las clases \n",
    "# versicolor (1) y virginica (2), pero ahora usando el Perceptron logístico.\n",
    "# ¿Hubo algún cambio significativo en los resultados obtenidos?\n",
    "# ¿Por qué crees que fue esto?\n",
    "\n",
    "X = iris.data[50:]\n",
    "Y = iris.target[:100]\n",
    "\n",
    "print(X.shape)\n",
    "print(Y.shape)\n",
    "\n",
    "x_train, x_test, y_train, y_test = train_test_split(X, Y, test_size=0.1)\n",
    "\n",
    "ACC = np.zeros((100, 3))\n",
    "for ind in range(100):\n",
    "  perceptron = Perceptron()\n",
    "  acc_history = perceptron.fit(x_train, y_train, n_epochs=50, lr=0.3, val_split=0.1, verbose=False) # Completar aquí\n",
    "  ACC[ind, 0], ACC[ind, 1] = acc_history[-1]\n",
    "  y_test_hat = perceptron.predict(x_test)\n",
    "  ACC[ind, 2] = accuracy_score(y_test, y_test_hat.round())\n",
    "    \n",
    "print(f\"Training:\\t {ACC[:, 0].mean():6.4f} +- {ACC[:, 0].std():6.4f}\")\n",
    "print(f\"Validation:\\t {ACC[:, 1].mean():6.4f} +- {ACC[:, 1].std():6.4f}\")\n",
    "print(f\"Test:\\t\\t {ACC[:, 2].mean():6.4f} +- {ACC[:, 2].std():6.4f}\")"
   ]
  },
  {
   "cell_type": "markdown",
   "metadata": {
    "id": "SgqSqFHUuME_"
   },
   "source": [
    "# Part 4: Sklearn Perceptron"
   ]
  },
  {
   "cell_type": "code",
   "execution_count": null,
   "metadata": {
    "id": "I0fUQU9TvlH6"
   },
   "outputs": [],
   "source": [
    "# Manually divide train, val, y test sets\n",
    "x_train, x_test, y_train, y_test = train_test_split(X, Y, test_size=0.1)\n",
    "x_train, x_val, y_train, y_val = train_test_split(x_train, y_train, test_size=0.1)"
   ]
  },
  {
   "cell_type": "code",
   "execution_count": null,
   "metadata": {
    "colab": {
     "base_uri": "https://localhost:8080/"
    },
    "id": "BSxIf7I07tbe",
    "outputId": "d99e0bae-2f7a-401b-f571-0b50eb127778"
   },
   "outputs": [
    {
     "data": {
      "text/plain": [
       "Perceptron(eta0=0.003, max_iter=50)"
      ]
     },
     "execution_count": 48,
     "metadata": {},
     "output_type": "execute_result"
    }
   ],
   "source": [
    "# Use perceptron from scikit-learn\n",
    "from sklearn.linear_model import Perceptron\n",
    "sk_perceptron = Perceptron(max_iter=50, eta0=0.003)\n",
    "sk_perceptron.fit(x_train, y_train)"
   ]
  },
  {
   "cell_type": "code",
   "execution_count": null,
   "metadata": {
    "colab": {
     "base_uri": "https://localhost:8080/"
    },
    "id": "H15JJ99AuXIf",
    "outputId": "e0ec4483-4237-4e92-90ec-f1e226f6dcef"
   },
   "outputs": [
    {
     "name": "stdout",
     "output_type": "stream",
     "text": [
      "Training:\t 1.0000\n",
      "Validation:\t 1.0000\n",
      "Test:\t\t 0.7000\n"
     ]
    }
   ],
   "source": [
    "# Print performance\n",
    "print(f\"Training:\\t {sk_perceptron.score(x_train, y_train):.4f}\")\n",
    "print(f\"Validation:\\t {sk_perceptron.score(x_val, y_val):.4f}\")\n",
    "print(f\"Test:\\t\\t {sk_perceptron.score(x_test, y_test):.4f}\")"
   ]
  }
 ],
 "metadata": {
  "colab": {
   "provenance": []
  },
  "kernelspec": {
   "display_name": "Python 3 (ipykernel)",
   "language": "python",
   "name": "python3"
  },
  "language_info": {
   "codemirror_mode": {
    "name": "ipython",
    "version": 3
   },
   "file_extension": ".py",
   "mimetype": "text/x-python",
   "name": "python",
   "nbconvert_exporter": "python",
   "pygments_lexer": "ipython3",
   "version": "3.10.9"
  }
 },
 "nbformat": 4,
 "nbformat_minor": 4
}
